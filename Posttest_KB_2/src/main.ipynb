{
 "cells": [
  {
   "cell_type": "markdown",
   "source": [
    "# POSTTEST 2\n",
    "Nama : Gilang Raditya\n",
    "NIM : 2009106072"
   ],
   "metadata": {
    "collapsed": false
   }
  },
  {
   "cell_type": "markdown",
   "source": [
    "<hr>\n",
    "Import Modules"
   ],
   "metadata": {
    "collapsed": false
   }
  },
  {
   "cell_type": "code",
   "execution_count": 2,
   "metadata": {
    "collapsed": true
   },
   "outputs": [],
   "source": [
    "import pandas as pd\n",
    "import numpy as np\n",
    "from tabulate import tabulate"
   ]
  },
  {
   "cell_type": "markdown",
   "source": [
    "Baca csv-nya dan Lihat info dataset"
   ],
   "metadata": {
    "collapsed": false
   }
  },
  {
   "cell_type": "code",
   "execution_count": 3,
   "outputs": [],
   "source": [
    "df = pd.read_csv(\"Video_Games_Sales_as_at_22_Dec_2016.csv\")"
   ],
   "metadata": {
    "collapsed": false
   }
  },
  {
   "cell_type": "markdown",
   "source": [
    "df.info digunakan untuk menampilkan info dataframe"
   ],
   "metadata": {
    "collapsed": false
   }
  },
  {
   "cell_type": "code",
   "execution_count": 4,
   "outputs": [
    {
     "name": "stdout",
     "output_type": "stream",
     "text": [
      "<class 'pandas.core.frame.DataFrame'>\n",
      "RangeIndex: 16719 entries, 0 to 16718\n",
      "Data columns (total 16 columns):\n",
      " #   Column           Non-Null Count  Dtype  \n",
      "---  ------           --------------  -----  \n",
      " 0   Name             16717 non-null  object \n",
      " 1   Platform         16719 non-null  object \n",
      " 2   Year_of_Release  16450 non-null  float64\n",
      " 3   Genre            16717 non-null  object \n",
      " 4   Publisher        16665 non-null  object \n",
      " 5   NA_Sales         16719 non-null  float64\n",
      " 6   EU_Sales         16719 non-null  float64\n",
      " 7   JP_Sales         16719 non-null  float64\n",
      " 8   Other_Sales      16719 non-null  float64\n",
      " 9   Global_Sales     16719 non-null  float64\n",
      " 10  Critic_Score     8137 non-null   float64\n",
      " 11  Critic_Count     8137 non-null   float64\n",
      " 12  User_Score       10015 non-null  object \n",
      " 13  User_Count       7590 non-null   float64\n",
      " 14  Developer        10096 non-null  object \n",
      " 15  Rating           9950 non-null   object \n",
      "dtypes: float64(9), object(7)\n",
      "memory usage: 2.0+ MB\n"
     ]
    }
   ],
   "source": [
    "df.info()"
   ],
   "metadata": {
    "collapsed": false
   }
  },
  {
   "cell_type": "markdown",
   "source": [
    "# Informasi yang didapatkan adalah jumlah record, nama attribute, jumlah attribute dengan tipe objek, jumlah attribute dengan tipe angka, jumlah attribute yang memiliki nilai null."
   ],
   "metadata": {
    "collapsed": false
   }
  },
  {
   "cell_type": "markdown",
   "source": [
    "df.shape digunakan untuk mengambil bentuk dari dataframe, Nilai pertamanya adalah Jumlah Attribute Dataset"
   ],
   "metadata": {
    "collapsed": false
   }
  },
  {
   "cell_type": "code",
   "execution_count": 5,
   "outputs": [
    {
     "data": {
      "text/plain": "16719"
     },
     "execution_count": 5,
     "metadata": {},
     "output_type": "execute_result"
    }
   ],
   "source": [
    "dataset_info = {\"Jumlah Record\": [df.shape[0]]}\n",
    "df.shape[0]"
   ],
   "metadata": {
    "collapsed": false
   }
  },
  {
   "cell_type": "markdown",
   "source": [
    "df.columns digunakan untuk mengambil Daftar Nama Attribute"
   ],
   "metadata": {
    "collapsed": false
   }
  },
  {
   "cell_type": "code",
   "execution_count": 6,
   "outputs": [
    {
     "data": {
      "text/plain": "['Name',\n 'Platform',\n 'Year_of_Release',\n 'Genre',\n 'Publisher',\n 'NA_Sales',\n 'EU_Sales',\n 'JP_Sales',\n 'Other_Sales',\n 'Global_Sales',\n 'Critic_Score',\n 'Critic_Count',\n 'User_Score',\n 'User_Count',\n 'Developer',\n 'Rating']"
     },
     "execution_count": 6,
     "metadata": {},
     "output_type": "execute_result"
    }
   ],
   "source": [
    "dataset_info['Nama Attr'] = df.columns.tolist()\n",
    "df.columns.tolist()"
   ],
   "metadata": {
    "collapsed": false
   }
  },
  {
   "cell_type": "markdown",
   "source": [
    "df.select_dtypes digunakan untuk mengambil data dengan dtypes tertentu.\n",
    "Kita isi parameter include dengan 'object'.\n",
    "Setelah itu, kita ambil daftar kolomnya lalu kita hitung jumlah attributesnya.\n",
    "Begitu lah cara kita mengambil Jumlah Attribute dengan Bertipe Object"
   ],
   "metadata": {
    "collapsed": false
   }
  },
  {
   "cell_type": "code",
   "execution_count": 7,
   "outputs": [
    {
     "data": {
      "text/plain": "7"
     },
     "execution_count": 7,
     "metadata": {},
     "output_type": "execute_result"
    }
   ],
   "source": [
    "dataset_info['Jumlah Attr Object'] = [len(df.select_dtypes(include='object').columns)]\n",
    "len(df.select_dtypes(include='object').columns)"
   ],
   "metadata": {
    "collapsed": false
   }
  },
  {
   "cell_type": "markdown",
   "source": [
    "Cara kita mengambil Jumlah Attribute dengan Bertipe Angka hampir sama seperti diatas.\n",
    "Perbedaannya terletak di parameter include yang kita isi dengan list yang berisi 'float64' dan 'int64'"
   ],
   "metadata": {
    "collapsed": false
   }
  },
  {
   "cell_type": "code",
   "execution_count": 8,
   "outputs": [
    {
     "data": {
      "text/plain": "9"
     },
     "execution_count": 8,
     "metadata": {},
     "output_type": "execute_result"
    }
   ],
   "source": [
    "dataset_info['Jumlah Attr Angka'] = [len(df.select_dtypes(include=['float64', 'int64']).columns)]\n",
    "len(df.select_dtypes(include=['float64', 'int64']).columns)"
   ],
   "metadata": {
    "collapsed": false
   }
  },
  {
   "cell_type": "markdown",
   "source": [
    "Ini adalah cara mengambil Jumlah Attribute yang Memiliki Nilai Null. df.isnull digunakan untuk mengecek apakah ada null atau tidak, jika null beri nilai true, jika tidak false. df.any digunakan untuk menentukan apakah di dalam sebuah attribut ada nilai true atau tidak. lalu kita hitung berapa kolom yang memiliki nilai true."
   ],
   "metadata": {
    "collapsed": false
   }
  },
  {
   "cell_type": "code",
   "execution_count": 9,
   "outputs": [
    {
     "data": {
      "text/plain": "10"
     },
     "execution_count": 9,
     "metadata": {},
     "output_type": "execute_result"
    }
   ],
   "source": [
    "df_null_sum = df.isnull().any()\n",
    "dataset_info['Jumlah Attr Null'] = [len(df_null_sum[df_null_sum == True])]\n",
    "len(df_null_sum[df_null_sum > 0])"
   ],
   "metadata": {
    "collapsed": false
   }
  },
  {
   "cell_type": "markdown",
   "source": [
    "# Masukkan informasi di atas dalam dictionary dengan key sesuai nama informasinya. Tampilkan isi dari dictionary tersebut sebagus mungkin."
   ],
   "metadata": {
    "collapsed": false
   }
  },
  {
   "cell_type": "markdown",
   "source": [
    "tabulate digunakan untuk menampilkan data mau itu dictionary atau dataframe menjadi tabel"
   ],
   "metadata": {
    "collapsed": false
   }
  },
  {
   "cell_type": "code",
   "execution_count": 10,
   "outputs": [
    {
     "name": "stdout",
     "output_type": "stream",
     "text": [
      "  Jumlah Record  Nama Attr          Jumlah Attr Object    Jumlah Attr Angka    Jumlah Attr Null\n",
      "---------------  ---------------  --------------------  -------------------  ------------------\n",
      "          16719  Name                                7                    9                  10\n",
      "                 Platform\n",
      "                 Year_of_Release\n",
      "                 Genre\n",
      "                 Publisher\n",
      "                 NA_Sales\n",
      "                 EU_Sales\n",
      "                 JP_Sales\n",
      "                 Other_Sales\n",
      "                 Global_Sales\n",
      "                 Critic_Score\n",
      "                 Critic_Count\n",
      "                 User_Score\n",
      "                 User_Count\n",
      "                 Developer\n",
      "                 Rating\n"
     ]
    }
   ],
   "source": [
    "print(tabulate(dataset_info,headers=dataset_info.keys()))"
   ],
   "metadata": {
    "collapsed": false
   }
  },
  {
   "cell_type": "markdown",
   "source": [
    "# Tampilkan rata-rata, standar deviasi, nilai minimum, nilai maksimum, Q1, Q2, dan Q3 dari attribute bertipe angka."
   ],
   "metadata": {
    "collapsed": false
   }
  },
  {
   "cell_type": "markdown",
   "source": [
    "df.describe digunakan untuk mendapatkan deskripsi dari kolom numerik dataframe yang terdiri dari:\n",
    "count, rata rata, standar deviasi, nilai minimum, 25% (Quartil Satu), 50% (Quartil Dua), 75% (Quartil Tiga), dan nilai maksimum."
   ],
   "metadata": {
    "collapsed": false
   }
  },
  {
   "cell_type": "code",
   "execution_count": 11,
   "outputs": [
    {
     "data": {
      "text/plain": "       Year_of_Release      NA_Sales      EU_Sales      JP_Sales  \\\ncount     16450.000000  16719.000000  16719.000000  16719.000000   \nmean       2006.487356      0.263330      0.145025      0.077602   \nstd           5.878995      0.813514      0.503283      0.308818   \nmin        1980.000000      0.000000      0.000000      0.000000   \n25%        2003.000000      0.000000      0.000000      0.000000   \n50%        2007.000000      0.080000      0.020000      0.000000   \n75%        2010.000000      0.240000      0.110000      0.040000   \nmax        2020.000000     41.360000     28.960000     10.220000   \n\n        Other_Sales  Global_Sales  Critic_Score  Critic_Count    User_Count  \ncount  16719.000000  16719.000000   8137.000000   8137.000000   7590.000000  \nmean       0.047332      0.533543     68.967679     26.360821    162.229908  \nstd        0.186710      1.547935     13.938165     18.980495    561.282326  \nmin        0.000000      0.010000     13.000000      3.000000      4.000000  \n25%        0.000000      0.060000     60.000000     12.000000     10.000000  \n50%        0.010000      0.170000     71.000000     21.000000     24.000000  \n75%        0.030000      0.470000     79.000000     36.000000     81.000000  \nmax       10.570000     82.530000     98.000000    113.000000  10665.000000  ",
      "text/html": "<div>\n<style scoped>\n    .dataframe tbody tr th:only-of-type {\n        vertical-align: middle;\n    }\n\n    .dataframe tbody tr th {\n        vertical-align: top;\n    }\n\n    .dataframe thead th {\n        text-align: right;\n    }\n</style>\n<table border=\"1\" class=\"dataframe\">\n  <thead>\n    <tr style=\"text-align: right;\">\n      <th></th>\n      <th>Year_of_Release</th>\n      <th>NA_Sales</th>\n      <th>EU_Sales</th>\n      <th>JP_Sales</th>\n      <th>Other_Sales</th>\n      <th>Global_Sales</th>\n      <th>Critic_Score</th>\n      <th>Critic_Count</th>\n      <th>User_Count</th>\n    </tr>\n  </thead>\n  <tbody>\n    <tr>\n      <th>count</th>\n      <td>16450.000000</td>\n      <td>16719.000000</td>\n      <td>16719.000000</td>\n      <td>16719.000000</td>\n      <td>16719.000000</td>\n      <td>16719.000000</td>\n      <td>8137.000000</td>\n      <td>8137.000000</td>\n      <td>7590.000000</td>\n    </tr>\n    <tr>\n      <th>mean</th>\n      <td>2006.487356</td>\n      <td>0.263330</td>\n      <td>0.145025</td>\n      <td>0.077602</td>\n      <td>0.047332</td>\n      <td>0.533543</td>\n      <td>68.967679</td>\n      <td>26.360821</td>\n      <td>162.229908</td>\n    </tr>\n    <tr>\n      <th>std</th>\n      <td>5.878995</td>\n      <td>0.813514</td>\n      <td>0.503283</td>\n      <td>0.308818</td>\n      <td>0.186710</td>\n      <td>1.547935</td>\n      <td>13.938165</td>\n      <td>18.980495</td>\n      <td>561.282326</td>\n    </tr>\n    <tr>\n      <th>min</th>\n      <td>1980.000000</td>\n      <td>0.000000</td>\n      <td>0.000000</td>\n      <td>0.000000</td>\n      <td>0.000000</td>\n      <td>0.010000</td>\n      <td>13.000000</td>\n      <td>3.000000</td>\n      <td>4.000000</td>\n    </tr>\n    <tr>\n      <th>25%</th>\n      <td>2003.000000</td>\n      <td>0.000000</td>\n      <td>0.000000</td>\n      <td>0.000000</td>\n      <td>0.000000</td>\n      <td>0.060000</td>\n      <td>60.000000</td>\n      <td>12.000000</td>\n      <td>10.000000</td>\n    </tr>\n    <tr>\n      <th>50%</th>\n      <td>2007.000000</td>\n      <td>0.080000</td>\n      <td>0.020000</td>\n      <td>0.000000</td>\n      <td>0.010000</td>\n      <td>0.170000</td>\n      <td>71.000000</td>\n      <td>21.000000</td>\n      <td>24.000000</td>\n    </tr>\n    <tr>\n      <th>75%</th>\n      <td>2010.000000</td>\n      <td>0.240000</td>\n      <td>0.110000</td>\n      <td>0.040000</td>\n      <td>0.030000</td>\n      <td>0.470000</td>\n      <td>79.000000</td>\n      <td>36.000000</td>\n      <td>81.000000</td>\n    </tr>\n    <tr>\n      <th>max</th>\n      <td>2020.000000</td>\n      <td>41.360000</td>\n      <td>28.960000</td>\n      <td>10.220000</td>\n      <td>10.570000</td>\n      <td>82.530000</td>\n      <td>98.000000</td>\n      <td>113.000000</td>\n      <td>10665.000000</td>\n    </tr>\n  </tbody>\n</table>\n</div>"
     },
     "execution_count": 11,
     "metadata": {},
     "output_type": "execute_result"
    }
   ],
   "source": [
    "df.describe()"
   ],
   "metadata": {
    "collapsed": false
   }
  },
  {
   "cell_type": "markdown",
   "source": [
    "# Tampilkan nilai korelasi attribute bertipe angka."
   ],
   "metadata": {
    "collapsed": false
   }
  },
  {
   "cell_type": "markdown",
   "source": [
    "df.corr digunakan untuk menghitung nilai korelasi dari attribute numerik"
   ],
   "metadata": {
    "collapsed": false
   }
  },
  {
   "cell_type": "code",
   "execution_count": 12,
   "outputs": [
    {
     "data": {
      "text/plain": "                 Year_of_Release  NA_Sales  EU_Sales  JP_Sales  Other_Sales  \\\nYear_of_Release         1.000000 -0.092562  0.003842 -0.168386     0.037700   \nNA_Sales               -0.092562  1.000000  0.765336  0.449598     0.638654   \nEU_Sales                0.003842  0.765336  1.000000  0.435068     0.722796   \nJP_Sales               -0.168386  0.449598  0.435068  1.000000     0.291096   \nOther_Sales             0.037700  0.638654  0.722796  0.291096     1.000000   \nGlobal_Sales           -0.076433  0.941010  0.901239  0.612300     0.749242   \nCritic_Score            0.011411  0.240755  0.220752  0.152593     0.198554   \nCritic_Count            0.223407  0.295413  0.277533  0.180219     0.251639   \nUser_Count              0.175339  0.246429  0.283360  0.075638     0.238982   \n\n                 Global_Sales  Critic_Score  Critic_Count  User_Count  \nYear_of_Release     -0.076433      0.011411      0.223407    0.175339  \nNA_Sales             0.941010      0.240755      0.295413    0.246429  \nEU_Sales             0.901239      0.220752      0.277533    0.283360  \nJP_Sales             0.612300      0.152593      0.180219    0.075638  \nOther_Sales          0.749242      0.198554      0.251639    0.238982  \nGlobal_Sales         1.000000      0.245471      0.303571    0.265012  \nCritic_Score         0.245471      1.000000      0.425504    0.264376  \nCritic_Count         0.303571      0.425504      1.000000    0.362334  \nUser_Count           0.265012      0.264376      0.362334    1.000000  ",
      "text/html": "<div>\n<style scoped>\n    .dataframe tbody tr th:only-of-type {\n        vertical-align: middle;\n    }\n\n    .dataframe tbody tr th {\n        vertical-align: top;\n    }\n\n    .dataframe thead th {\n        text-align: right;\n    }\n</style>\n<table border=\"1\" class=\"dataframe\">\n  <thead>\n    <tr style=\"text-align: right;\">\n      <th></th>\n      <th>Year_of_Release</th>\n      <th>NA_Sales</th>\n      <th>EU_Sales</th>\n      <th>JP_Sales</th>\n      <th>Other_Sales</th>\n      <th>Global_Sales</th>\n      <th>Critic_Score</th>\n      <th>Critic_Count</th>\n      <th>User_Count</th>\n    </tr>\n  </thead>\n  <tbody>\n    <tr>\n      <th>Year_of_Release</th>\n      <td>1.000000</td>\n      <td>-0.092562</td>\n      <td>0.003842</td>\n      <td>-0.168386</td>\n      <td>0.037700</td>\n      <td>-0.076433</td>\n      <td>0.011411</td>\n      <td>0.223407</td>\n      <td>0.175339</td>\n    </tr>\n    <tr>\n      <th>NA_Sales</th>\n      <td>-0.092562</td>\n      <td>1.000000</td>\n      <td>0.765336</td>\n      <td>0.449598</td>\n      <td>0.638654</td>\n      <td>0.941010</td>\n      <td>0.240755</td>\n      <td>0.295413</td>\n      <td>0.246429</td>\n    </tr>\n    <tr>\n      <th>EU_Sales</th>\n      <td>0.003842</td>\n      <td>0.765336</td>\n      <td>1.000000</td>\n      <td>0.435068</td>\n      <td>0.722796</td>\n      <td>0.901239</td>\n      <td>0.220752</td>\n      <td>0.277533</td>\n      <td>0.283360</td>\n    </tr>\n    <tr>\n      <th>JP_Sales</th>\n      <td>-0.168386</td>\n      <td>0.449598</td>\n      <td>0.435068</td>\n      <td>1.000000</td>\n      <td>0.291096</td>\n      <td>0.612300</td>\n      <td>0.152593</td>\n      <td>0.180219</td>\n      <td>0.075638</td>\n    </tr>\n    <tr>\n      <th>Other_Sales</th>\n      <td>0.037700</td>\n      <td>0.638654</td>\n      <td>0.722796</td>\n      <td>0.291096</td>\n      <td>1.000000</td>\n      <td>0.749242</td>\n      <td>0.198554</td>\n      <td>0.251639</td>\n      <td>0.238982</td>\n    </tr>\n    <tr>\n      <th>Global_Sales</th>\n      <td>-0.076433</td>\n      <td>0.941010</td>\n      <td>0.901239</td>\n      <td>0.612300</td>\n      <td>0.749242</td>\n      <td>1.000000</td>\n      <td>0.245471</td>\n      <td>0.303571</td>\n      <td>0.265012</td>\n    </tr>\n    <tr>\n      <th>Critic_Score</th>\n      <td>0.011411</td>\n      <td>0.240755</td>\n      <td>0.220752</td>\n      <td>0.152593</td>\n      <td>0.198554</td>\n      <td>0.245471</td>\n      <td>1.000000</td>\n      <td>0.425504</td>\n      <td>0.264376</td>\n    </tr>\n    <tr>\n      <th>Critic_Count</th>\n      <td>0.223407</td>\n      <td>0.295413</td>\n      <td>0.277533</td>\n      <td>0.180219</td>\n      <td>0.251639</td>\n      <td>0.303571</td>\n      <td>0.425504</td>\n      <td>1.000000</td>\n      <td>0.362334</td>\n    </tr>\n    <tr>\n      <th>User_Count</th>\n      <td>0.175339</td>\n      <td>0.246429</td>\n      <td>0.283360</td>\n      <td>0.075638</td>\n      <td>0.238982</td>\n      <td>0.265012</td>\n      <td>0.264376</td>\n      <td>0.362334</td>\n      <td>1.000000</td>\n    </tr>\n  </tbody>\n</table>\n</div>"
     },
     "execution_count": 12,
     "metadata": {},
     "output_type": "execute_result"
    }
   ],
   "source": [
    "df.corr(numeric_only=True)"
   ],
   "metadata": {
    "collapsed": false
   }
  },
  {
   "cell_type": "markdown",
   "source": [
    "# Rubah nilai salah satu attribute bertipe angka menjadi desimal 3 angka dibelakang koma jika tidak ada, lakukan sebaliknya (dari desimal menjadi bilangan bulat)."
   ],
   "metadata": {
    "collapsed": false
   }
  },
  {
   "cell_type": "markdown",
   "source": [
    "df.convert_dtypes digunakan untuk mengkonversi data types dari series atau dataframe.\n",
    "Jadi column 'Year_of_Release' kita ubah dari float64 menjadi int64."
   ],
   "metadata": {
    "collapsed": false
   }
  },
  {
   "cell_type": "code",
   "execution_count": 13,
   "outputs": [
    {
     "name": "stdout",
     "output_type": "stream",
     "text": [
      "<class 'pandas.core.frame.DataFrame'>\n",
      "RangeIndex: 16719 entries, 0 to 16718\n",
      "Data columns (total 16 columns):\n",
      " #   Column           Non-Null Count  Dtype  \n",
      "---  ------           --------------  -----  \n",
      " 0   Name             16717 non-null  object \n",
      " 1   Platform         16719 non-null  object \n",
      " 2   Year_of_Release  16450 non-null  Int64  \n",
      " 3   Genre            16717 non-null  object \n",
      " 4   Publisher        16665 non-null  object \n",
      " 5   NA_Sales         16719 non-null  float64\n",
      " 6   EU_Sales         16719 non-null  float64\n",
      " 7   JP_Sales         16719 non-null  float64\n",
      " 8   Other_Sales      16719 non-null  float64\n",
      " 9   Global_Sales     16719 non-null  float64\n",
      " 10  Critic_Score     8137 non-null   float64\n",
      " 11  Critic_Count     8137 non-null   float64\n",
      " 12  User_Score       10015 non-null  object \n",
      " 13  User_Count       7590 non-null   float64\n",
      " 14  Developer        10096 non-null  object \n",
      " 15  Rating           9950 non-null   object \n",
      "dtypes: Int64(1), float64(8), object(7)\n",
      "memory usage: 2.1+ MB\n"
     ]
    }
   ],
   "source": [
    "df['Year_of_Release'] = df['Year_of_Release'].convert_dtypes(\"int64\")\n",
    "df.info()"
   ],
   "metadata": {
    "collapsed": false
   }
  },
  {
   "cell_type": "markdown",
   "source": [
    "# Tampilkan 10 record pertama dari attribute bertipe angka."
   ],
   "metadata": {
    "collapsed": false
   }
  },
  {
   "cell_type": "markdown",
   "source": [
    "df.head digunakan untuk mengambil record pertama dari dataframe"
   ],
   "metadata": {
    "collapsed": false
   }
  },
  {
   "cell_type": "code",
   "execution_count": 14,
   "outputs": [
    {
     "data": {
      "text/plain": "   Year_of_Release  NA_Sales  EU_Sales  JP_Sales  Other_Sales  Global_Sales  \\\n0             2006     41.36     28.96      3.77         8.45         82.53   \n1             1985     29.08      3.58      6.81         0.77         40.24   \n2             2008     15.68     12.76      3.79         3.29         35.52   \n3             2009     15.61     10.93      3.28         2.95         32.77   \n4             1996     11.27      8.89     10.22         1.00         31.37   \n5             1989     23.20      2.26      4.22         0.58         30.26   \n6             2006     11.28      9.14      6.50         2.88         29.80   \n7             2006     13.96      9.18      2.93         2.84         28.92   \n8             2009     14.44      6.94      4.70         2.24         28.32   \n9             1984     26.93      0.63      0.28         0.47         28.31   \n\n   Critic_Score  Critic_Count  User_Count  \n0          76.0          51.0       322.0  \n1           NaN           NaN         NaN  \n2          82.0          73.0       709.0  \n3          80.0          73.0       192.0  \n4           NaN           NaN         NaN  \n5           NaN           NaN         NaN  \n6          89.0          65.0       431.0  \n7          58.0          41.0       129.0  \n8          87.0          80.0       594.0  \n9           NaN           NaN         NaN  ",
      "text/html": "<div>\n<style scoped>\n    .dataframe tbody tr th:only-of-type {\n        vertical-align: middle;\n    }\n\n    .dataframe tbody tr th {\n        vertical-align: top;\n    }\n\n    .dataframe thead th {\n        text-align: right;\n    }\n</style>\n<table border=\"1\" class=\"dataframe\">\n  <thead>\n    <tr style=\"text-align: right;\">\n      <th></th>\n      <th>Year_of_Release</th>\n      <th>NA_Sales</th>\n      <th>EU_Sales</th>\n      <th>JP_Sales</th>\n      <th>Other_Sales</th>\n      <th>Global_Sales</th>\n      <th>Critic_Score</th>\n      <th>Critic_Count</th>\n      <th>User_Count</th>\n    </tr>\n  </thead>\n  <tbody>\n    <tr>\n      <th>0</th>\n      <td>2006</td>\n      <td>41.36</td>\n      <td>28.96</td>\n      <td>3.77</td>\n      <td>8.45</td>\n      <td>82.53</td>\n      <td>76.0</td>\n      <td>51.0</td>\n      <td>322.0</td>\n    </tr>\n    <tr>\n      <th>1</th>\n      <td>1985</td>\n      <td>29.08</td>\n      <td>3.58</td>\n      <td>6.81</td>\n      <td>0.77</td>\n      <td>40.24</td>\n      <td>NaN</td>\n      <td>NaN</td>\n      <td>NaN</td>\n    </tr>\n    <tr>\n      <th>2</th>\n      <td>2008</td>\n      <td>15.68</td>\n      <td>12.76</td>\n      <td>3.79</td>\n      <td>3.29</td>\n      <td>35.52</td>\n      <td>82.0</td>\n      <td>73.0</td>\n      <td>709.0</td>\n    </tr>\n    <tr>\n      <th>3</th>\n      <td>2009</td>\n      <td>15.61</td>\n      <td>10.93</td>\n      <td>3.28</td>\n      <td>2.95</td>\n      <td>32.77</td>\n      <td>80.0</td>\n      <td>73.0</td>\n      <td>192.0</td>\n    </tr>\n    <tr>\n      <th>4</th>\n      <td>1996</td>\n      <td>11.27</td>\n      <td>8.89</td>\n      <td>10.22</td>\n      <td>1.00</td>\n      <td>31.37</td>\n      <td>NaN</td>\n      <td>NaN</td>\n      <td>NaN</td>\n    </tr>\n    <tr>\n      <th>5</th>\n      <td>1989</td>\n      <td>23.20</td>\n      <td>2.26</td>\n      <td>4.22</td>\n      <td>0.58</td>\n      <td>30.26</td>\n      <td>NaN</td>\n      <td>NaN</td>\n      <td>NaN</td>\n    </tr>\n    <tr>\n      <th>6</th>\n      <td>2006</td>\n      <td>11.28</td>\n      <td>9.14</td>\n      <td>6.50</td>\n      <td>2.88</td>\n      <td>29.80</td>\n      <td>89.0</td>\n      <td>65.0</td>\n      <td>431.0</td>\n    </tr>\n    <tr>\n      <th>7</th>\n      <td>2006</td>\n      <td>13.96</td>\n      <td>9.18</td>\n      <td>2.93</td>\n      <td>2.84</td>\n      <td>28.92</td>\n      <td>58.0</td>\n      <td>41.0</td>\n      <td>129.0</td>\n    </tr>\n    <tr>\n      <th>8</th>\n      <td>2009</td>\n      <td>14.44</td>\n      <td>6.94</td>\n      <td>4.70</td>\n      <td>2.24</td>\n      <td>28.32</td>\n      <td>87.0</td>\n      <td>80.0</td>\n      <td>594.0</td>\n    </tr>\n    <tr>\n      <th>9</th>\n      <td>1984</td>\n      <td>26.93</td>\n      <td>0.63</td>\n      <td>0.28</td>\n      <td>0.47</td>\n      <td>28.31</td>\n      <td>NaN</td>\n      <td>NaN</td>\n      <td>NaN</td>\n    </tr>\n  </tbody>\n</table>\n</div>"
     },
     "execution_count": 14,
     "metadata": {},
     "output_type": "execute_result"
    }
   ],
   "source": [
    "df.select_dtypes(include=['int64', 'float64']).head(10)"
   ],
   "metadata": {
    "collapsed": false
   }
  },
  {
   "cell_type": "markdown",
   "source": [
    "# Simpan dataset dengan attribute bertipe angka ke dalam file CSV."
   ],
   "metadata": {
    "collapsed": false
   }
  },
  {
   "cell_type": "markdown",
   "source": [
    "df.to_csv digunakan untuk menyimpan dataframe ke file yang berbentuk csv"
   ],
   "metadata": {
    "collapsed": false
   }
  },
  {
   "cell_type": "code",
   "execution_count": 15,
   "outputs": [],
   "source": [
    "df.select_dtypes(include=['int64', 'float64']).to_csv('new_dataset.csv')"
   ],
   "metadata": {
    "collapsed": false
   }
  }
 ],
 "metadata": {
  "kernelspec": {
   "display_name": "Python 3",
   "language": "python",
   "name": "python3"
  },
  "language_info": {
   "codemirror_mode": {
    "name": "ipython",
    "version": 2
   },
   "file_extension": ".py",
   "mimetype": "text/x-python",
   "name": "python",
   "nbconvert_exporter": "python",
   "pygments_lexer": "ipython2",
   "version": "2.7.6"
  }
 },
 "nbformat": 4,
 "nbformat_minor": 0
}
