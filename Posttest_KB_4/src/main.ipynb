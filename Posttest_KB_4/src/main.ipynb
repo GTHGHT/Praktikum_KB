{
 "cells": [
  {
   "cell_type": "markdown",
   "source": [
    "# POSTTEST 4 Pre-Processing\n",
    "## Nama: Gilang Raditya\n",
    "## NIM: 2009106072"
   ],
   "attachments": {},
   "metadata": {
    "datalore": {
     "node_id": "f9jCPZ4M4XfENxLHjNdDoK",
     "type": "MD",
     "hide_input_from_viewers": false,
     "hide_output_from_viewers": false,
     "report_properties": {}
    }
   }
  },
  {
   "cell_type": "markdown",
   "source": [
    "### Import Module"
   ],
   "attachments": {},
   "metadata": {
    "datalore": {
     "node_id": "GE1UVrxWzBYVBV8vJjuyIc",
     "type": "MD",
     "hide_input_from_viewers": false,
     "hide_output_from_viewers": false,
     "report_properties": {}
    }
   }
  },
  {
   "cell_type": "code",
   "source": [
    "import pandas as pd\n",
    "import numpy as np\n",
    "from sklearn.model_selection import train_test_split"
   ],
   "execution_count": 1,
   "outputs": [],
   "metadata": {
    "datalore": {
     "node_id": "FmGnqdctbnWXScF2vFwVl2",
     "type": "CODE",
     "hide_input_from_viewers": false,
     "hide_output_from_viewers": false,
     "report_properties": {}
    }
   }
  },
  {
   "cell_type": "markdown",
   "source": [
    "### Baca file csv lalu tampilkan info dataset"
   ],
   "attachments": {},
   "metadata": {
    "datalore": {
     "node_id": "zCUzHPmulTTkJZRZzlXEBz",
     "type": "MD",
     "hide_input_from_viewers": false,
     "hide_output_from_viewers": false,
     "report_properties": {}
    }
   }
  },
  {
   "cell_type": "code",
   "source": [
    "dataset = pd.read_csv(\"Weather Test Data.csv\")"
   ],
   "execution_count": 2,
   "outputs": [],
   "metadata": {
    "datalore": {
     "node_id": "9vQBZ8eUCBrtvHZe2g6sVk",
     "type": "CODE",
     "hide_input_from_viewers": false,
     "hide_output_from_viewers": false,
     "report_properties": {}
    }
   }
  },
  {
   "cell_type": "code",
   "source": [
    "# Data\n",
    "dataset.head()"
   ],
   "execution_count": 3,
   "outputs": [
    {
     "data": {
      "text/plain": "  row ID Location  MinTemp  MaxTemp  Rainfall  Evaporation  Sunshine  \\\n0   Row0   Albury     12.9     25.7       0.0          NaN       NaN   \n1   Row1   Albury      9.2     28.0       0.0          NaN       NaN   \n2   Row2   Albury     14.3     25.0       0.0          NaN       NaN   \n3   Row3   Albury      9.7     31.9       0.0          NaN       NaN   \n4   Row4   Albury     15.9     18.6      15.6          NaN       NaN   \n\n  WindGustDir  WindGustSpeed WindDir9am  ... WindSpeed3pm  Humidity9am  \\\n0         WSW           46.0          W  ...         26.0         38.0   \n1          NE           24.0         SE  ...          9.0         45.0   \n2           W           50.0         SW  ...         24.0         49.0   \n3         NNW           80.0         SE  ...         28.0         42.0   \n4           W           61.0        NNW  ...         28.0         76.0   \n\n   Humidity3pm  Pressure9am  Pressure3pm  Cloud9am  Cloud3pm  Temp9am  \\\n0         30.0       1007.6       1008.7       NaN       2.0     21.0   \n1         16.0       1017.6       1012.8       NaN       NaN     18.1   \n2         19.0       1009.6       1008.2       1.0       NaN     18.1   \n3          9.0       1008.9       1003.6       NaN       NaN     18.3   \n4         93.0        994.3        993.0       8.0       8.0     17.4   \n\n   Temp3pm  RainToday  \n0     23.2         No  \n1     26.5         No  \n2     24.6         No  \n3     30.2         No  \n4     15.8        Yes  \n\n[5 rows x 22 columns]",
      "text/html": "<div>\n<style scoped>\n    .dataframe tbody tr th:only-of-type {\n        vertical-align: middle;\n    }\n\n    .dataframe tbody tr th {\n        vertical-align: top;\n    }\n\n    .dataframe thead th {\n        text-align: right;\n    }\n</style>\n<table border=\"1\" class=\"dataframe\">\n  <thead>\n    <tr style=\"text-align: right;\">\n      <th></th>\n      <th>row ID</th>\n      <th>Location</th>\n      <th>MinTemp</th>\n      <th>MaxTemp</th>\n      <th>Rainfall</th>\n      <th>Evaporation</th>\n      <th>Sunshine</th>\n      <th>WindGustDir</th>\n      <th>WindGustSpeed</th>\n      <th>WindDir9am</th>\n      <th>...</th>\n      <th>WindSpeed3pm</th>\n      <th>Humidity9am</th>\n      <th>Humidity3pm</th>\n      <th>Pressure9am</th>\n      <th>Pressure3pm</th>\n      <th>Cloud9am</th>\n      <th>Cloud3pm</th>\n      <th>Temp9am</th>\n      <th>Temp3pm</th>\n      <th>RainToday</th>\n    </tr>\n  </thead>\n  <tbody>\n    <tr>\n      <th>0</th>\n      <td>Row0</td>\n      <td>Albury</td>\n      <td>12.9</td>\n      <td>25.7</td>\n      <td>0.0</td>\n      <td>NaN</td>\n      <td>NaN</td>\n      <td>WSW</td>\n      <td>46.0</td>\n      <td>W</td>\n      <td>...</td>\n      <td>26.0</td>\n      <td>38.0</td>\n      <td>30.0</td>\n      <td>1007.6</td>\n      <td>1008.7</td>\n      <td>NaN</td>\n      <td>2.0</td>\n      <td>21.0</td>\n      <td>23.2</td>\n      <td>No</td>\n    </tr>\n    <tr>\n      <th>1</th>\n      <td>Row1</td>\n      <td>Albury</td>\n      <td>9.2</td>\n      <td>28.0</td>\n      <td>0.0</td>\n      <td>NaN</td>\n      <td>NaN</td>\n      <td>NE</td>\n      <td>24.0</td>\n      <td>SE</td>\n      <td>...</td>\n      <td>9.0</td>\n      <td>45.0</td>\n      <td>16.0</td>\n      <td>1017.6</td>\n      <td>1012.8</td>\n      <td>NaN</td>\n      <td>NaN</td>\n      <td>18.1</td>\n      <td>26.5</td>\n      <td>No</td>\n    </tr>\n    <tr>\n      <th>2</th>\n      <td>Row2</td>\n      <td>Albury</td>\n      <td>14.3</td>\n      <td>25.0</td>\n      <td>0.0</td>\n      <td>NaN</td>\n      <td>NaN</td>\n      <td>W</td>\n      <td>50.0</td>\n      <td>SW</td>\n      <td>...</td>\n      <td>24.0</td>\n      <td>49.0</td>\n      <td>19.0</td>\n      <td>1009.6</td>\n      <td>1008.2</td>\n      <td>1.0</td>\n      <td>NaN</td>\n      <td>18.1</td>\n      <td>24.6</td>\n      <td>No</td>\n    </tr>\n    <tr>\n      <th>3</th>\n      <td>Row3</td>\n      <td>Albury</td>\n      <td>9.7</td>\n      <td>31.9</td>\n      <td>0.0</td>\n      <td>NaN</td>\n      <td>NaN</td>\n      <td>NNW</td>\n      <td>80.0</td>\n      <td>SE</td>\n      <td>...</td>\n      <td>28.0</td>\n      <td>42.0</td>\n      <td>9.0</td>\n      <td>1008.9</td>\n      <td>1003.6</td>\n      <td>NaN</td>\n      <td>NaN</td>\n      <td>18.3</td>\n      <td>30.2</td>\n      <td>No</td>\n    </tr>\n    <tr>\n      <th>4</th>\n      <td>Row4</td>\n      <td>Albury</td>\n      <td>15.9</td>\n      <td>18.6</td>\n      <td>15.6</td>\n      <td>NaN</td>\n      <td>NaN</td>\n      <td>W</td>\n      <td>61.0</td>\n      <td>NNW</td>\n      <td>...</td>\n      <td>28.0</td>\n      <td>76.0</td>\n      <td>93.0</td>\n      <td>994.3</td>\n      <td>993.0</td>\n      <td>8.0</td>\n      <td>8.0</td>\n      <td>17.4</td>\n      <td>15.8</td>\n      <td>Yes</td>\n    </tr>\n  </tbody>\n</table>\n<p>5 rows × 22 columns</p>\n</div>"
     },
     "execution_count": 3,
     "metadata": {},
     "output_type": "execute_result"
    }
   ],
   "metadata": {
    "datalore": {
     "node_id": "xy2BuRw6BxvySuwK6uMmNd",
     "type": "CODE",
     "hide_input_from_viewers": false,
     "hide_output_from_viewers": false,
     "report_properties": {}
    }
   }
  },
  {
   "cell_type": "code",
   "source": [
    "# Info Dataset\n",
    "dataset.info()"
   ],
   "execution_count": 4,
   "outputs": [
    {
     "name": "stdout",
     "output_type": "stream",
     "text": [
      "<class 'pandas.core.frame.DataFrame'>\n",
      "RangeIndex: 42677 entries, 0 to 42676\n",
      "Data columns (total 22 columns):\n",
      " #   Column         Non-Null Count  Dtype  \n",
      "---  ------         --------------  -----  \n",
      " 0   row ID         42677 non-null  object \n",
      " 1   Location       42677 non-null  object \n",
      " 2   MinTemp        42483 non-null  float64\n",
      " 3   MaxTemp        42585 non-null  float64\n",
      " 4   Rainfall       42250 non-null  float64\n",
      " 5   Evaporation    24365 non-null  float64\n",
      " 6   Sunshine       22178 non-null  float64\n",
      " 7   WindGustDir    39868 non-null  object \n",
      " 8   WindGustSpeed  39887 non-null  float64\n",
      " 9   WindDir9am     39670 non-null  object \n",
      " 10  WindDir3pm     41547 non-null  object \n",
      " 11  WindSpeed9am   42264 non-null  float64\n",
      " 12  WindSpeed3pm   41882 non-null  float64\n",
      " 13  Humidity9am    42136 non-null  float64\n",
      " 14  Humidity3pm    41573 non-null  float64\n",
      " 15  Pressure9am    38411 non-null  float64\n",
      " 16  Pressure3pm    38432 non-null  float64\n",
      " 17  Cloud9am       26592 non-null  float64\n",
      " 18  Cloud3pm       25585 non-null  float64\n",
      " 19  Temp9am        42387 non-null  float64\n",
      " 20  Temp3pm        41855 non-null  float64\n",
      " 21  RainToday      42250 non-null  object \n",
      "dtypes: float64(16), object(6)\n",
      "memory usage: 7.2+ MB\n"
     ]
    }
   ],
   "metadata": {
    "datalore": {
     "node_id": "FPGfF9GbjrI2tuk98Es4tH",
     "type": "CODE",
     "hide_input_from_viewers": false,
     "hide_output_from_viewers": false,
     "report_properties": {}
    }
   }
  },
  {
   "cell_type": "markdown",
   "source": [
    "## Bagi dataset training dan testing\n",
    "Bagi dataset menjadi training set dan testing set dengan proporsi 70:30"
   ],
   "attachments": {},
   "metadata": {
    "datalore": {
     "node_id": "fvvrWOOLFGaul8lrFJusVI",
     "type": "MD",
     "hide_input_from_viewers": false,
     "hide_output_from_viewers": false,
     "report_properties": {}
    }
   }
  },
  {
   "cell_type": "code",
   "source": [
    "## Memisahkan Value dengan Label\n",
    "x = dataset.iloc[:, :-1]\n",
    "y = dataset.iloc[:, -1]"
   ],
   "execution_count": 5,
   "outputs": [],
   "metadata": {
    "datalore": {
     "node_id": "80LKXnUMEU7LbbBloNVI5c",
     "type": "CODE",
     "hide_input_from_viewers": false,
     "hide_output_from_viewers": false,
     "report_properties": {}
    }
   }
  },
  {
   "cell_type": "code",
   "source": [
    "# Memisahkan Data training dan testing\n",
    "x_train, x_test, y_train, y_test = train_test_split(x, y, test_size=.3)"
   ],
   "execution_count": 6,
   "outputs": [],
   "metadata": {
    "datalore": {
     "node_id": "D96H2merbAJh3xB9MfwvE8",
     "type": "CODE",
     "hide_input_from_viewers": false,
     "hide_output_from_viewers": false,
     "report_properties": {}
    }
   }
  },
  {
   "cell_type": "code",
   "source": [
    "# Tampilkan jumlah training dan testing\n",
    "print(f\"Bentuk x_train = {x_train.shape}\\nBentuk x_test = {x_test.shape}\")\n",
    "print(f\"Bentuk y_train = {y_train.shape}\\nBentuk x_test = {y_test.shape}\")"
   ],
   "execution_count": 7,
   "outputs": [
    {
     "name": "stdout",
     "output_type": "stream",
     "text": [
      "Bentuk x_train = (29873, 21)\n",
      "Bentuk x_test = (12804, 21)\n",
      "Bentuk y_train = (29873,)\n",
      "Bentuk x_test = (12804,)\n"
     ]
    }
   ],
   "metadata": {
    "datalore": {
     "node_id": "IG5dMLo7WZogqBpqm2XnqU",
     "type": "CODE",
     "hide_input_from_viewers": false,
     "hide_output_from_viewers": false,
     "report_properties": {}
    }
   }
  },
  {
   "cell_type": "markdown",
   "source": [
    "## Normalisasi Data\n",
    "Lakukan normalisasi data pada salah satu attribute menggunakan Min Max scaler (buatlah copy dataset terlebih dahulu)"
   ],
   "attachments": {},
   "metadata": {
    "datalore": {
     "node_id": "w3rVdObiRQbJxfx7Z1RHF6",
     "type": "MD",
     "hide_input_from_viewers": false,
     "hide_output_from_viewers": false,
     "report_properties": {}
    }
   }
  },
  {
   "cell_type": "code",
   "source": [
    "# Import Module\n",
    "from sklearn.preprocessing import MinMaxScaler"
   ],
   "execution_count": 8,
   "outputs": [],
   "metadata": {
    "datalore": {
     "node_id": "wlB3xUUjw7QOkxpfhgdv9M",
     "type": "CODE",
     "hide_input_from_viewers": false,
     "hide_output_from_viewers": false,
     "report_properties": {}
    }
   }
  },
  {
   "cell_type": "code",
   "source": [
    "# Pembuatan MinMaxScaler\n",
    "min_max = MinMaxScaler()\n",
    "# Pembuatan copy dataset\n",
    "dataset_min_max = dataset.copy()"
   ],
   "execution_count": 9,
   "outputs": [],
   "metadata": {
    "datalore": {
     "node_id": "rgO8h0PgEhRudGdLYdbM4j",
     "type": "CODE",
     "hide_input_from_viewers": false,
     "hide_output_from_viewers": false,
     "report_properties": {}
    }
   }
  },
  {
   "cell_type": "code",
   "source": [
    "# Pengaplikasian MinMaxScaler\n",
    "data_normalisasi = min_max.fit_transform(dataset_min_max[['Rainfall']])"
   ],
   "execution_count": 10,
   "outputs": [],
   "metadata": {
    "datalore": {
     "node_id": "wtlrG5X7Gxs2WdPyWVOIDY",
     "type": "CODE",
     "hide_input_from_viewers": false,
     "hide_output_from_viewers": false,
     "report_properties": {}
    }
   }
  },
  {
   "cell_type": "code",
   "source": [
    "# Pengubahan ndarray menjadi dataframe\n",
    "data_normalisasi = pd.DataFrame(data_normalisasi)"
   ],
   "execution_count": 11,
   "outputs": [],
   "metadata": {
    "datalore": {
     "node_id": "QYdGpOVgzgq1lP0UiO6WxE",
     "type": "CODE",
     "hide_input_from_viewers": false,
     "hide_output_from_viewers": false,
     "report_properties": {}
    }
   }
  },
  {
   "cell_type": "code",
   "execution_count": 12,
   "outputs": [
    {
     "data": {
      "text/plain": "          0\n0  0.000000\n1  0.000000\n2  0.000000\n3  0.000000\n4  0.056034",
      "text/html": "<div>\n<style scoped>\n    .dataframe tbody tr th:only-of-type {\n        vertical-align: middle;\n    }\n\n    .dataframe tbody tr th {\n        vertical-align: top;\n    }\n\n    .dataframe thead th {\n        text-align: right;\n    }\n</style>\n<table border=\"1\" class=\"dataframe\">\n  <thead>\n    <tr style=\"text-align: right;\">\n      <th></th>\n      <th>0</th>\n    </tr>\n  </thead>\n  <tbody>\n    <tr>\n      <th>0</th>\n      <td>0.000000</td>\n    </tr>\n    <tr>\n      <th>1</th>\n      <td>0.000000</td>\n    </tr>\n    <tr>\n      <th>2</th>\n      <td>0.000000</td>\n    </tr>\n    <tr>\n      <th>3</th>\n      <td>0.000000</td>\n    </tr>\n    <tr>\n      <th>4</th>\n      <td>0.056034</td>\n    </tr>\n  </tbody>\n</table>\n</div>"
     },
     "execution_count": 12,
     "metadata": {},
     "output_type": "execute_result"
    }
   ],
   "source": [
    "# Hasil normalisasi\n",
    "data_normalisasi.head()"
   ],
   "metadata": {
    "collapsed": false
   }
  },
  {
   "cell_type": "code",
   "source": [
    "# Hasil normalisasi\n",
    "data_normalisasi.describe()"
   ],
   "execution_count": 13,
   "outputs": [
    {
     "data": {
      "text/plain": "                  0\ncount  42250.000000\nmean       0.008415\nstd        0.030216\nmin        0.000000\n25%        0.000000\n50%        0.000000\n75%        0.002155\nmax        1.000000",
      "text/html": "<div>\n<style scoped>\n    .dataframe tbody tr th:only-of-type {\n        vertical-align: middle;\n    }\n\n    .dataframe tbody tr th {\n        vertical-align: top;\n    }\n\n    .dataframe thead th {\n        text-align: right;\n    }\n</style>\n<table border=\"1\" class=\"dataframe\">\n  <thead>\n    <tr style=\"text-align: right;\">\n      <th></th>\n      <th>0</th>\n    </tr>\n  </thead>\n  <tbody>\n    <tr>\n      <th>count</th>\n      <td>42250.000000</td>\n    </tr>\n    <tr>\n      <th>mean</th>\n      <td>0.008415</td>\n    </tr>\n    <tr>\n      <th>std</th>\n      <td>0.030216</td>\n    </tr>\n    <tr>\n      <th>min</th>\n      <td>0.000000</td>\n    </tr>\n    <tr>\n      <th>25%</th>\n      <td>0.000000</td>\n    </tr>\n    <tr>\n      <th>50%</th>\n      <td>0.000000</td>\n    </tr>\n    <tr>\n      <th>75%</th>\n      <td>0.002155</td>\n    </tr>\n    <tr>\n      <th>max</th>\n      <td>1.000000</td>\n    </tr>\n  </tbody>\n</table>\n</div>"
     },
     "execution_count": 13,
     "metadata": {},
     "output_type": "execute_result"
    }
   ],
   "metadata": {
    "datalore": {
     "node_id": "Mx8AX2KqAgYI9DvxkAYiPl",
     "type": "CODE",
     "hide_input_from_viewers": false,
     "hide_output_from_viewers": false,
     "report_properties": {}
    }
   }
  },
  {
   "cell_type": "markdown",
   "source": [
    "## Standarisasi Data\n",
    "Lakukan standarisasi pada dataset (buatlah copy dataset terlebih dahulu)"
   ],
   "attachments": {},
   "metadata": {
    "datalore": {
     "node_id": "VWkXlAloIwLmpFnSnQGk51",
     "type": "MD",
     "hide_input_from_viewers": true,
     "hide_output_from_viewers": true
    }
   }
  },
  {
   "cell_type": "code",
   "source": [
    "# Import Module\n",
    "from sklearn.preprocessing import StandardScaler"
   ],
   "execution_count": 14,
   "outputs": [],
   "metadata": {
    "datalore": {
     "node_id": "LtlBdUIMEo2ZrQuZaDUldk",
     "type": "CODE",
     "hide_input_from_viewers": false,
     "hide_output_from_viewers": false,
     "report_properties": {}
    }
   }
  },
  {
   "cell_type": "code",
   "source": [
    "# Pembuatan StandardScaler\n",
    "scaler = StandardScaler()\n",
    "# Pembuatan copy dataset\n",
    "data_standarisasi = dataset.copy()"
   ],
   "execution_count": 15,
   "outputs": [],
   "metadata": {
    "datalore": {
     "node_id": "TRJOXaZPixZFfGj0Scb48x",
     "type": "CODE",
     "hide_input_from_viewers": false,
     "hide_output_from_viewers": false,
     "report_properties": {}
    }
   }
  },
  {
   "cell_type": "code",
   "source": [
    "# Melihat kolom apa saja yang bertipe float64\n",
    "dataset.select_dtypes(include='float64').columns"
   ],
   "execution_count": 16,
   "outputs": [
    {
     "data": {
      "text/plain": "Index(['MinTemp', 'MaxTemp', 'Rainfall', 'Evaporation', 'Sunshine',\n       'WindGustSpeed', 'WindSpeed9am', 'WindSpeed3pm', 'Humidity9am',\n       'Humidity3pm', 'Pressure9am', 'Pressure3pm', 'Cloud9am', 'Cloud3pm',\n       'Temp9am', 'Temp3pm'],\n      dtype='object')"
     },
     "execution_count": 16,
     "metadata": {},
     "output_type": "execute_result"
    }
   ],
   "metadata": {
    "datalore": {
     "node_id": "cTI5FVLONtJ9ESIODRizrh",
     "type": "CODE",
     "hide_input_from_viewers": true,
     "hide_output_from_viewers": true
    }
   }
  },
  {
   "cell_type": "code",
   "source": [
    "# Pengaplikasian scaler untuk standarisasi\n",
    "hasil_standarisasi = scaler.fit_transform(\n",
    "    data_standarisasi[['MinTemp', 'MaxTemp', 'Rainfall', 'Evaporation',\n",
    "                       'Sunshine', 'WindGustSpeed', 'WindSpeed9am',\n",
    "                       'WindSpeed3pm', 'Humidity9am', 'Humidity3pm',\n",
    "                       'Pressure9am', 'Pressure3pm', 'Cloud9am', 'Cloud3pm',\n",
    "                       'Temp9am', 'Temp3pm']]\n",
    ")"
   ],
   "execution_count": 17,
   "outputs": [],
   "metadata": {
    "datalore": {
     "node_id": "NcLou6Anv2OXcDpj6kw0ge",
     "type": "CODE",
     "hide_input_from_viewers": false,
     "hide_output_from_viewers": false,
     "report_properties": {}
    }
   }
  },
  {
   "cell_type": "code",
   "source": [
    "# Standar deviasi dari hasil standarisasi\n",
    "np.nanstd(hasil_standarisasi.astype('float32'))"
   ],
   "execution_count": 18,
   "outputs": [
    {
     "data": {
      "text/plain": "1.0"
     },
     "execution_count": 18,
     "metadata": {},
     "output_type": "execute_result"
    }
   ],
   "metadata": {
    "datalore": {
     "node_id": "gcldBHuQ6Bnu3VEusKH18F",
     "type": "CODE",
     "hide_input_from_viewers": true,
     "hide_output_from_viewers": true
    }
   }
  },
  {
   "cell_type": "code",
   "source": [
    "# Pengubahan ndarray menjadi dataframe\n",
    "data_standarisasi = pd.DataFrame(\n",
    "    hasil_standarisasi, columns=['MinTemp', 'MaxTemp', 'Rainfall', 'Evaporation',\n",
    "                                 'Sunshine', 'WindGustSpeed', 'WindSpeed9am',\n",
    "                                 'WindSpeed3pm', 'Humidity9am', 'Humidity3pm',\n",
    "                                 'Pressure9am', 'Pressure3pm', 'Cloud9am', 'Cloud3pm',\n",
    "                                 'Temp9am', 'Temp3pm']\n",
    ")"
   ],
   "execution_count": 19,
   "outputs": [],
   "metadata": {
    "datalore": {
     "node_id": "jUcgnaAm8Q8GELDhHRKWe3",
     "type": "CODE",
     "hide_input_from_viewers": true,
     "hide_output_from_viewers": true
    }
   }
  },
  {
   "cell_type": "code",
   "source": [
    "# Hasil standarisasi\n",
    "data_standarisasi.describe()"
   ],
   "execution_count": 20,
   "outputs": [
    {
     "data": {
      "text/plain": "            MinTemp       MaxTemp      Rainfall   Evaporation      Sunshine  \\\ncount  4.248300e+04  4.258500e+04  4.225000e+04  2.436500e+04  2.217800e+04   \nmean   5.352110e-17 -3.737503e-16 -1.210866e-17  4.665990e-17  3.344786e-16   \nstd    1.000012e+00  1.000012e+00  1.000012e+00  1.000021e+00  1.000023e+00   \nmin   -3.173179e+00 -3.937112e+00 -2.785140e-01 -1.292074e+00 -2.024342e+00   \n25%   -7.167288e-01 -7.364440e-01 -2.785140e-01 -6.801310e-01 -7.273371e-01   \n50%   -3.265403e-02 -9.069512e-02 -2.785140e-01 -1.623331e-01  2.255648e-01   \n75%    7.291564e-01  7.094719e-01 -2.071874e-01  4.496098e-01  8.078937e-01   \nmax    3.045682e+00  3.334581e+00  3.281704e+01  3.283551e+01  1.760796e+00   \n\n       WindGustSpeed  WindSpeed9am  WindSpeed3pm   Humidity9am   Humidity3pm  \\\ncount   3.988700e+04  4.226400e+04  4.188200e+04  4.213600e+04  4.157300e+04   \nmean    7.677788e-17 -1.210465e-17 -1.289367e-16  2.428284e-16  4.101947e-17   \nstd     1.000013e+00  1.000012e+00  1.000012e+00  1.000012e+00  1.000012e+00   \nmin    -2.425547e+00 -1.577410e+00 -2.112855e+00 -3.568729e+00 -2.427413e+00   \n25%    -6.615867e-01 -7.884408e-01 -6.367250e-01 -6.207225e-01 -7.003204e-01   \n50%    -7.359971e-02 -1.121818e-01  4.456592e-02  6.363607e-02  1.930163e-02   \n75%     5.878856e-01  5.640772e-01  6.123083e-01  7.479946e-01  6.909489e-01   \nmax     6.026765e+00  6.763118e+00  7.311669e+00  1.642925e+00  2.322092e+00   \n\n        Pressure9am   Pressure3pm      Cloud9am      Cloud3pm       Temp9am  \\\ncount  3.841100e+04  3.843200e+04  2.659200e+04  2.558500e+04  4.238700e+04   \nmean   7.884766e-15 -2.153518e-14  5.344034e-17 -2.443923e-17 -4.613239e-16   \nstd    1.000013e+00  1.000013e+00  1.000019e+00  1.000020e+00  1.000012e+00   \nmin   -4.987553e+00 -5.429172e+00 -1.527782e+00 -1.636165e+00 -3.726454e+00   \n25%   -6.599388e-01 -6.830923e-01 -1.181507e+00 -9.034533e-01 -7.272359e-01   \n50%    2.594988e-03  1.027339e-03  2.035958e-01  1.956141e-01 -3.510866e-02   \n75%    6.792253e-01  6.851470e-01  8.961470e-01  9.283256e-01  7.031605e-01   \nmax    3.216589e+00  3.378868e+00  1.242423e+00  1.294681e+00  3.440908e+00   \n\n            Temp3pm  \ncount  4.185500e+04  \nmean  -4.237283e-16  \nstd    1.000012e+00  \nmin   -3.898668e+00  \n25%   -7.338124e-01  \n50%   -8.645551e-02  \n75%    6.903728e-01  \nmax    3.409272e+00  ",
      "text/html": "<div>\n<style scoped>\n    .dataframe tbody tr th:only-of-type {\n        vertical-align: middle;\n    }\n\n    .dataframe tbody tr th {\n        vertical-align: top;\n    }\n\n    .dataframe thead th {\n        text-align: right;\n    }\n</style>\n<table border=\"1\" class=\"dataframe\">\n  <thead>\n    <tr style=\"text-align: right;\">\n      <th></th>\n      <th>MinTemp</th>\n      <th>MaxTemp</th>\n      <th>Rainfall</th>\n      <th>Evaporation</th>\n      <th>Sunshine</th>\n      <th>WindGustSpeed</th>\n      <th>WindSpeed9am</th>\n      <th>WindSpeed3pm</th>\n      <th>Humidity9am</th>\n      <th>Humidity3pm</th>\n      <th>Pressure9am</th>\n      <th>Pressure3pm</th>\n      <th>Cloud9am</th>\n      <th>Cloud3pm</th>\n      <th>Temp9am</th>\n      <th>Temp3pm</th>\n    </tr>\n  </thead>\n  <tbody>\n    <tr>\n      <th>count</th>\n      <td>4.248300e+04</td>\n      <td>4.258500e+04</td>\n      <td>4.225000e+04</td>\n      <td>2.436500e+04</td>\n      <td>2.217800e+04</td>\n      <td>3.988700e+04</td>\n      <td>4.226400e+04</td>\n      <td>4.188200e+04</td>\n      <td>4.213600e+04</td>\n      <td>4.157300e+04</td>\n      <td>3.841100e+04</td>\n      <td>3.843200e+04</td>\n      <td>2.659200e+04</td>\n      <td>2.558500e+04</td>\n      <td>4.238700e+04</td>\n      <td>4.185500e+04</td>\n    </tr>\n    <tr>\n      <th>mean</th>\n      <td>5.352110e-17</td>\n      <td>-3.737503e-16</td>\n      <td>-1.210866e-17</td>\n      <td>4.665990e-17</td>\n      <td>3.344786e-16</td>\n      <td>7.677788e-17</td>\n      <td>-1.210465e-17</td>\n      <td>-1.289367e-16</td>\n      <td>2.428284e-16</td>\n      <td>4.101947e-17</td>\n      <td>7.884766e-15</td>\n      <td>-2.153518e-14</td>\n      <td>5.344034e-17</td>\n      <td>-2.443923e-17</td>\n      <td>-4.613239e-16</td>\n      <td>-4.237283e-16</td>\n    </tr>\n    <tr>\n      <th>std</th>\n      <td>1.000012e+00</td>\n      <td>1.000012e+00</td>\n      <td>1.000012e+00</td>\n      <td>1.000021e+00</td>\n      <td>1.000023e+00</td>\n      <td>1.000013e+00</td>\n      <td>1.000012e+00</td>\n      <td>1.000012e+00</td>\n      <td>1.000012e+00</td>\n      <td>1.000012e+00</td>\n      <td>1.000013e+00</td>\n      <td>1.000013e+00</td>\n      <td>1.000019e+00</td>\n      <td>1.000020e+00</td>\n      <td>1.000012e+00</td>\n      <td>1.000012e+00</td>\n    </tr>\n    <tr>\n      <th>min</th>\n      <td>-3.173179e+00</td>\n      <td>-3.937112e+00</td>\n      <td>-2.785140e-01</td>\n      <td>-1.292074e+00</td>\n      <td>-2.024342e+00</td>\n      <td>-2.425547e+00</td>\n      <td>-1.577410e+00</td>\n      <td>-2.112855e+00</td>\n      <td>-3.568729e+00</td>\n      <td>-2.427413e+00</td>\n      <td>-4.987553e+00</td>\n      <td>-5.429172e+00</td>\n      <td>-1.527782e+00</td>\n      <td>-1.636165e+00</td>\n      <td>-3.726454e+00</td>\n      <td>-3.898668e+00</td>\n    </tr>\n    <tr>\n      <th>25%</th>\n      <td>-7.167288e-01</td>\n      <td>-7.364440e-01</td>\n      <td>-2.785140e-01</td>\n      <td>-6.801310e-01</td>\n      <td>-7.273371e-01</td>\n      <td>-6.615867e-01</td>\n      <td>-7.884408e-01</td>\n      <td>-6.367250e-01</td>\n      <td>-6.207225e-01</td>\n      <td>-7.003204e-01</td>\n      <td>-6.599388e-01</td>\n      <td>-6.830923e-01</td>\n      <td>-1.181507e+00</td>\n      <td>-9.034533e-01</td>\n      <td>-7.272359e-01</td>\n      <td>-7.338124e-01</td>\n    </tr>\n    <tr>\n      <th>50%</th>\n      <td>-3.265403e-02</td>\n      <td>-9.069512e-02</td>\n      <td>-2.785140e-01</td>\n      <td>-1.623331e-01</td>\n      <td>2.255648e-01</td>\n      <td>-7.359971e-02</td>\n      <td>-1.121818e-01</td>\n      <td>4.456592e-02</td>\n      <td>6.363607e-02</td>\n      <td>1.930163e-02</td>\n      <td>2.594988e-03</td>\n      <td>1.027339e-03</td>\n      <td>2.035958e-01</td>\n      <td>1.956141e-01</td>\n      <td>-3.510866e-02</td>\n      <td>-8.645551e-02</td>\n    </tr>\n    <tr>\n      <th>75%</th>\n      <td>7.291564e-01</td>\n      <td>7.094719e-01</td>\n      <td>-2.071874e-01</td>\n      <td>4.496098e-01</td>\n      <td>8.078937e-01</td>\n      <td>5.878856e-01</td>\n      <td>5.640772e-01</td>\n      <td>6.123083e-01</td>\n      <td>7.479946e-01</td>\n      <td>6.909489e-01</td>\n      <td>6.792253e-01</td>\n      <td>6.851470e-01</td>\n      <td>8.961470e-01</td>\n      <td>9.283256e-01</td>\n      <td>7.031605e-01</td>\n      <td>6.903728e-01</td>\n    </tr>\n    <tr>\n      <th>max</th>\n      <td>3.045682e+00</td>\n      <td>3.334581e+00</td>\n      <td>3.281704e+01</td>\n      <td>3.283551e+01</td>\n      <td>1.760796e+00</td>\n      <td>6.026765e+00</td>\n      <td>6.763118e+00</td>\n      <td>7.311669e+00</td>\n      <td>1.642925e+00</td>\n      <td>2.322092e+00</td>\n      <td>3.216589e+00</td>\n      <td>3.378868e+00</td>\n      <td>1.242423e+00</td>\n      <td>1.294681e+00</td>\n      <td>3.440908e+00</td>\n      <td>3.409272e+00</td>\n    </tr>\n  </tbody>\n</table>\n</div>"
     },
     "execution_count": 20,
     "metadata": {},
     "output_type": "execute_result"
    }
   ],
   "metadata": {
    "datalore": {
     "node_id": "SWKbYjWKUKHH44EZw6fWhn",
     "type": "CODE",
     "hide_input_from_viewers": true,
     "hide_output_from_viewers": true
    }
   }
  },
  {
   "cell_type": "markdown",
   "source": [
    "## Data Cleaning"
   ],
   "attachments": {},
   "metadata": {
    "datalore": {
     "node_id": "B8S8W5hAdtSmRiYZTGvudB",
     "type": "MD",
     "hide_input_from_viewers": true,
     "hide_output_from_viewers": true
    }
   }
  },
  {
   "cell_type": "code",
   "source": [
    "# cek jumlah nilai yang kosong per kolom\n",
    "dataset.isna().sum()"
   ],
   "execution_count": 21,
   "outputs": [
    {
     "data": {
      "text/plain": "row ID               0\nLocation             0\nMinTemp            194\nMaxTemp             92\nRainfall           427\nEvaporation      18312\nSunshine         20499\nWindGustDir       2809\nWindGustSpeed     2790\nWindDir9am        3007\nWindDir3pm        1130\nWindSpeed9am       413\nWindSpeed3pm       795\nHumidity9am        541\nHumidity3pm       1104\nPressure9am       4266\nPressure3pm       4245\nCloud9am         16085\nCloud3pm         17092\nTemp9am            290\nTemp3pm            822\nRainToday          427\ndtype: int64"
     },
     "execution_count": 21,
     "metadata": {},
     "output_type": "execute_result"
    }
   ],
   "metadata": {
    "datalore": {
     "node_id": "A8HM1vgvWTGWadzHyOHz2Q",
     "type": "CODE",
     "hide_input_from_viewers": true,
     "hide_output_from_viewers": true
    }
   }
  },
  {
   "cell_type": "code",
   "source": [
    "# cek kolom yang betipe object\n",
    "dataset.select_dtypes(include='object').columns"
   ],
   "execution_count": 22,
   "outputs": [
    {
     "data": {
      "text/plain": "Index(['row ID', 'Location', 'WindGustDir', 'WindDir9am', 'WindDir3pm',\n       'RainToday'],\n      dtype='object')"
     },
     "execution_count": 22,
     "metadata": {},
     "output_type": "execute_result"
    }
   ],
   "metadata": {
    "datalore": {
     "node_id": "sN8OL2FFXmIRAScNUEc3hn",
     "type": "CODE",
     "hide_input_from_viewers": true,
     "hide_output_from_viewers": true
    }
   }
  },
  {
   "cell_type": "code",
   "source": [
    "# cek kolom yang bertipe float 64\n",
    "dataset.select_dtypes(include='float64').columns"
   ],
   "execution_count": 23,
   "outputs": [
    {
     "data": {
      "text/plain": "Index(['MinTemp', 'MaxTemp', 'Rainfall', 'Evaporation', 'Sunshine',\n       'WindGustSpeed', 'WindSpeed9am', 'WindSpeed3pm', 'Humidity9am',\n       'Humidity3pm', 'Pressure9am', 'Pressure3pm', 'Cloud9am', 'Cloud3pm',\n       'Temp9am', 'Temp3pm'],\n      dtype='object')"
     },
     "execution_count": 23,
     "metadata": {},
     "output_type": "execute_result"
    }
   ],
   "metadata": {
    "datalore": {
     "node_id": "7bcBMufIK2MPxvlsnGXN99",
     "type": "CODE",
     "hide_input_from_viewers": true,
     "hide_output_from_viewers": true
    }
   }
  },
  {
   "cell_type": "code",
   "source": [
    "# kolom yang bertipe float 64\n",
    "float_cols = ['MinTemp', 'MaxTemp', 'Rainfall', 'Evaporation', 'Sunshine',\n",
    "              'WindGustSpeed', 'WindSpeed9am', 'WindSpeed3pm', 'Humidity9am',\n",
    "              'Humidity3pm', 'Pressure9am', 'Pressure3pm', 'Cloud9am', 'Cloud3pm',\n",
    "              'Temp9am', 'Temp3pm']\n",
    "\n",
    "# cek apakah kolom yang bertipe float 64 bisa dijadikan bilangan bulat (integer)\n",
    "for i in float_cols:\n",
    "    print(f\"Apakah {i} Bilangan Bulat? {'Ya' if dataset[i].dropna().apply(float.is_integer).all() else 'Tidak'}\")"
   ],
   "execution_count": 24,
   "outputs": [
    {
     "name": "stdout",
     "output_type": "stream",
     "text": [
      "Apakah MinTemp Bilangan Bulat? Tidak\n",
      "Apakah MaxTemp Bilangan Bulat? Tidak\n",
      "Apakah Rainfall Bilangan Bulat? Tidak\n",
      "Apakah Evaporation Bilangan Bulat? Tidak\n",
      "Apakah Sunshine Bilangan Bulat? Tidak\n",
      "Apakah WindGustSpeed Bilangan Bulat? Ya\n",
      "Apakah WindSpeed9am Bilangan Bulat? Ya\n",
      "Apakah WindSpeed3pm Bilangan Bulat? Ya\n",
      "Apakah Humidity9am Bilangan Bulat? Ya\n",
      "Apakah Humidity3pm Bilangan Bulat? Ya\n",
      "Apakah Pressure9am Bilangan Bulat? Tidak\n",
      "Apakah Pressure3pm Bilangan Bulat? Tidak\n",
      "Apakah Cloud9am Bilangan Bulat? Ya\n",
      "Apakah Cloud3pm Bilangan Bulat? Ya\n",
      "Apakah Temp9am Bilangan Bulat? Tidak\n",
      "Apakah Temp3pm Bilangan Bulat? Tidak\n"
     ]
    }
   ],
   "metadata": {
    "datalore": {
     "node_id": "FsEIO0utR1OlzUaujkMBwP",
     "type": "CODE",
     "hide_input_from_viewers": true,
     "hide_output_from_viewers": true
    }
   }
  },
  {
   "cell_type": "markdown",
   "source": [
    "### Data Cleaning pada nilai null\n",
    "Lakukan Data cleaning pada data dengan nilai null (jika tidak ada nilai null pada dataset, maka buatlah menjadi ada). Ganti nilai null sesuai ketentuan. (bilangan bulat : median/modus, bilangan desimal : mean, tulisan : modus). Nilai plus jika strategy yang digunakan menggunakan 3 nilai"
   ],
   "metadata": {
    "collapsed": false
   }
  },
  {
   "cell_type": "code",
   "source": [
    "# Pembuatan copy dataset\n",
    "data_cleaning = dataset.copy()"
   ],
   "execution_count": 25,
   "outputs": [],
   "metadata": {
    "datalore": {
     "node_id": "G1SWXHDgBOA7D6rvlsE3kS",
     "type": "CODE",
     "hide_input_from_viewers": true,
     "hide_output_from_viewers": true
    }
   }
  },
  {
   "cell_type": "code",
   "source": [
    "# Import Module\n",
    "from sklearn.impute import SimpleImputer"
   ],
   "execution_count": 26,
   "outputs": [],
   "metadata": {
    "datalore": {
     "node_id": "R24GWWwcpKvv9TAOklpjuv",
     "type": "CODE",
     "hide_input_from_viewers": true,
     "hide_output_from_viewers": true
    }
   }
  },
  {
   "cell_type": "code",
   "source": [
    "# Pembuatan Imputation dengan pengganti rata-rata\n",
    "impute_mean = SimpleImputer(strategy='mean')\n",
    "# Pembuatan Imputation dengan pengganti median\n",
    "impute_median = SimpleImputer(strategy='median')\n",
    "# Pembuatan Imputation dengan pengganti modus\n",
    "impute_modes = SimpleImputer(strategy='most_frequent')"
   ],
   "execution_count": 27,
   "outputs": [],
   "metadata": {
    "datalore": {
     "node_id": "XomZ8zC3TnFh2B8tijulGB",
     "type": "CODE",
     "hide_input_from_viewers": true,
     "hide_output_from_viewers": true
    }
   }
  },
  {
   "cell_type": "code",
   "source": [
    "bulat_cols = ['WindGustSpeed', 'WindSpeed9am', 'WindSpeed3pm', 'Humidity9am',\n",
    "              'Humidity3pm', 'Cloud9am', 'Cloud3pm']\n",
    "desimal_cols = ['MinTemp', 'MaxTemp', 'Rainfall', 'Evaporation', 'Sunshine',\n",
    "                'Pressure9am', 'Pressure3pm', 'Temp9am', 'Temp3pm']\n",
    "object_cols = ['WindGustDir', 'WindDir9am', 'WindDir3pm', 'RainToday']\n",
    "\n",
    "# penggantian kolom bilangan bulat yang null dengan median\n",
    "for i in bulat_cols:\n",
    "    data_cleaning[i] = impute_median.fit_transform(data_cleaning[[i]])\n",
    "\n",
    "# penggantian kolom bilangan desimal yang null dengan rata-rata\n",
    "for i in desimal_cols:\n",
    "    data_cleaning[i] = impute_mean.fit_transform(data_cleaning[[i]])\n",
    "\n",
    "# penggantian kolom bilangan object yang null dengan modus\n",
    "for i in object_cols:\n",
    "    data_cleaning[i] = impute_modes.fit_transform(data_cleaning[[i]])"
   ],
   "execution_count": 28,
   "outputs": [],
   "metadata": {
    "datalore": {
     "node_id": "jqDWKv5ans7hmZY2aukacu",
     "type": "CODE",
     "hide_input_from_viewers": true,
     "hide_output_from_viewers": true
    }
   }
  },
  {
   "cell_type": "code",
   "execution_count": 29,
   "outputs": [
    {
     "data": {
      "text/plain": "row ID           0\nLocation         0\nMinTemp          0\nMaxTemp          0\nRainfall         0\nEvaporation      0\nSunshine         0\nWindGustDir      0\nWindGustSpeed    0\nWindDir9am       0\nWindDir3pm       0\nWindSpeed9am     0\nWindSpeed3pm     0\nHumidity9am      0\nHumidity3pm      0\nPressure9am      0\nPressure3pm      0\nCloud9am         0\nCloud3pm         0\nTemp9am          0\nTemp3pm          0\nRainToday        0\ndtype: int64"
     },
     "execution_count": 29,
     "metadata": {},
     "output_type": "execute_result"
    }
   ],
   "source": [
    "# Hasil data cleaning\n",
    "data_cleaning.isna().sum()"
   ],
   "metadata": {
    "collapsed": false
   }
  },
  {
   "cell_type": "markdown",
   "source": [
    "### Data cleaning pada nilai duplikat\n",
    "Lakukan Data cleaning pada data dengan nilai duplikat. (Jika tidak ada nilai duplikat pada dataset, maka buatlah menjadi ada)"
   ],
   "metadata": {
    "collapsed": false
   }
  },
  {
   "cell_type": "code",
   "source": [
    "# Cek apakah data mempunyai nilai duplikat\n",
    "data_cleaning.duplicated().sum()"
   ],
   "execution_count": 30,
   "outputs": [
    {
     "data": {
      "text/plain": "0"
     },
     "execution_count": 30,
     "metadata": {},
     "output_type": "execute_result"
    }
   ],
   "metadata": {
    "datalore": {
     "node_id": "UNEk8js4JqQGbbbQdHg34y",
     "type": "CODE",
     "hide_input_from_viewers": true,
     "hide_output_from_viewers": true
    }
   }
  },
  {
   "cell_type": "code",
   "source": [
    "# Tambah nilai duplikat ke data\n",
    "data_cleaning = pd.concat([data_cleaning, data_cleaning.iloc[range(100, 250, 4)]], ignore_index=True)\n",
    "# Cek lagi apakah data mempunyai nilai duplikat\n",
    "data_cleaning.duplicated().sum()"
   ],
   "execution_count": 31,
   "outputs": [
    {
     "data": {
      "text/plain": "38"
     },
     "execution_count": 31,
     "metadata": {},
     "output_type": "execute_result"
    }
   ],
   "metadata": {
    "datalore": {
     "node_id": "orqCcXNDsOJNH3qsODjlF8",
     "type": "CODE",
     "hide_input_from_viewers": true,
     "hide_output_from_viewers": true
    }
   }
  },
  {
   "cell_type": "code",
   "source": [
    "# Hapus nilai yang duplikat\n",
    "data_cleaning.drop_duplicates(inplace=True)\n",
    "# Cek apakah data mempunyai nilai duplikat\n",
    "data_cleaning.duplicated().sum()"
   ],
   "execution_count": 32,
   "outputs": [
    {
     "data": {
      "text/plain": "0"
     },
     "execution_count": 32,
     "metadata": {},
     "output_type": "execute_result"
    }
   ],
   "metadata": {
    "datalore": {
     "node_id": "CoqKd06I0BbRzWdMwpDMtS",
     "type": "CODE",
     "hide_input_from_viewers": true,
     "hide_output_from_viewers": true
    }
   }
  },
  {
   "cell_type": "markdown",
   "source": [
    "###"
   ],
   "metadata": {
    "collapsed": false
   }
  },
  {
   "cell_type": "markdown",
   "source": [
    "## Ganti tipe data\n",
    "Ganti tipe data salah satu attribute angka"
   ],
   "metadata": {
    "collapsed": false
   }
  },
  {
   "cell_type": "code",
   "source": [
    "# convert tipe data WindGustSpeed dari float64 ke int64\n",
    "data_cleaning[bulat_cols[0]] = data_cleaning[bulat_cols[0]].astype('int64')"
   ],
   "execution_count": 33,
   "outputs": [],
   "metadata": {
    "datalore": {
     "node_id": "F7axMyd27ag1ROesyOQyYn",
     "type": "CODE",
     "hide_input_from_viewers": true,
     "hide_output_from_viewers": true
    }
   }
  },
  {
   "cell_type": "code",
   "source": [
    "# cek tipe data WindGustSpeed\n",
    "data_cleaning[\"WindGustSpeed\"].dtype"
   ],
   "execution_count": 34,
   "outputs": [
    {
     "data": {
      "text/plain": "dtype('int64')"
     },
     "execution_count": 34,
     "metadata": {},
     "output_type": "execute_result"
    }
   ],
   "metadata": {
    "datalore": {
     "node_id": "j841kXMN2BmImaWW7kNzZG",
     "type": "CODE",
     "hide_input_from_viewers": true,
     "hide_output_from_viewers": true
    }
   }
  },
  {
   "cell_type": "markdown",
   "source": [
    "## Encoding Data\n",
    "Lakukan one hot encoding pada dataset yang kalian miliki."
   ],
   "attachments": {},
   "metadata": {
    "datalore": {
     "node_id": "jfmtyYCmau0DiBxEUwe7XT",
     "type": "MD",
     "hide_input_from_viewers": true,
     "hide_output_from_viewers": true
    }
   }
  },
  {
   "cell_type": "code",
   "source": [
    "# Import Module\n",
    "from sklearn.preprocessing import OneHotEncoder"
   ],
   "execution_count": 35,
   "outputs": [],
   "metadata": {
    "datalore": {
     "node_id": "Z0QhzXIGPWscZikEZfWqDk",
     "type": "CODE",
     "hide_input_from_viewers": true,
     "hide_output_from_viewers": true
    }
   }
  },
  {
   "cell_type": "code",
   "source": [
    "# Pembuatan OneHotEncoder\n",
    "encoder_one = OneHotEncoder(sparse=False)"
   ],
   "execution_count": 36,
   "outputs": [],
   "metadata": {
    "datalore": {
     "node_id": "rTSuVnw2SybJ0PkU8WlqaZ",
     "type": "CODE",
     "hide_input_from_viewers": true,
     "hide_output_from_viewers": true
    }
   }
  },
  {
   "cell_type": "code",
   "source": [
    "# Pembuatan copy dataset\n",
    "data_encoding = data_cleaning.copy()"
   ],
   "execution_count": 37,
   "outputs": [],
   "metadata": {
    "datalore": {
     "node_id": "PxsWMBu4wUS6MXOvZeayMT",
     "type": "CODE",
     "hide_input_from_viewers": true,
     "hide_output_from_viewers": true
    }
   }
  },
  {
   "cell_type": "code",
   "source": [
    "# Pengaplikasian onehotencoder pada label\n",
    "temp_data = encoder_one.fit_transform(data_encoding[[\"RainToday\"]]).astype('int32')"
   ],
   "execution_count": 38,
   "outputs": [],
   "metadata": {
    "datalore": {
     "node_id": "JmxdIxN2TGEwHLcAleunlP",
     "type": "CODE",
     "hide_input_from_viewers": true,
     "hide_output_from_viewers": true
    }
   }
  },
  {
   "cell_type": "code",
   "source": [
    "# Pengubahan ndarray menjadi dataframe\n",
    "temp_data = pd.DataFrame(temp_data)"
   ],
   "execution_count": 39,
   "outputs": [],
   "metadata": {
    "datalore": {
     "node_id": "NiEkjJbQFQ90mYyZMZq8Bz",
     "type": "CODE",
     "hide_input_from_viewers": true,
     "hide_output_from_viewers": true
    }
   }
  },
  {
   "cell_type": "code",
   "source": [
    "# Hapus kolom yang sudah ada\n",
    "data_encoding.drop(\"RainToday\", axis=1, inplace=True)\n",
    "# Gabung hasil encoding dengan data\n",
    "data_encoding = data_encoding.join(temp_data)\n",
    "# Ganti nama kolom dari encoding yang kita gabung dengan nama kelas\n",
    "data_encoding.rename(columns={0: 'No', 1: 'Yes'}, inplace=True)"
   ],
   "execution_count": 40,
   "outputs": [],
   "metadata": {
    "datalore": {
     "node_id": "dTqRYEycq8cmMkOG0qXKMR",
     "type": "CODE",
     "hide_input_from_viewers": true,
     "hide_output_from_viewers": true
    }
   }
  },
  {
   "cell_type": "code",
   "source": [
    "# Hasil Encoding\n",
    "data_encoding.head()"
   ],
   "execution_count": 41,
   "outputs": [
    {
     "data": {
      "text/plain": "  row ID Location  MinTemp  MaxTemp  Rainfall  Evaporation  Sunshine  \\\n0   Row0   Albury     12.9     25.7       0.0     5.489715  7.647831   \n1   Row1   Albury      9.2     28.0       0.0     5.489715  7.647831   \n2   Row2   Albury     14.3     25.0       0.0     5.489715  7.647831   \n3   Row3   Albury      9.7     31.9       0.0     5.489715  7.647831   \n4   Row4   Albury     15.9     18.6      15.6     5.489715  7.647831   \n\n  WindGustDir  WindGustSpeed WindDir9am  ... Humidity9am  Humidity3pm  \\\n0         WSW             46          W  ...        38.0         30.0   \n1          NE             24         SE  ...        45.0         16.0   \n2           W             50         SW  ...        49.0         19.0   \n3         NNW             80         SE  ...        42.0          9.0   \n4           W             61        NNW  ...        76.0         93.0   \n\n   Pressure9am  Pressure3pm  Cloud9am  Cloud3pm  Temp9am  Temp3pm  No  Yes  \n0       1007.6       1008.7       5.0       2.0     21.0     23.2   1    0  \n1       1017.6       1012.8       5.0       5.0     18.1     26.5   1    0  \n2       1009.6       1008.2       1.0       5.0     18.1     24.6   1    0  \n3       1008.9       1003.6       5.0       5.0     18.3     30.2   1    0  \n4        994.3        993.0       8.0       8.0     17.4     15.8   0    1  \n\n[5 rows x 23 columns]",
      "text/html": "<div>\n<style scoped>\n    .dataframe tbody tr th:only-of-type {\n        vertical-align: middle;\n    }\n\n    .dataframe tbody tr th {\n        vertical-align: top;\n    }\n\n    .dataframe thead th {\n        text-align: right;\n    }\n</style>\n<table border=\"1\" class=\"dataframe\">\n  <thead>\n    <tr style=\"text-align: right;\">\n      <th></th>\n      <th>row ID</th>\n      <th>Location</th>\n      <th>MinTemp</th>\n      <th>MaxTemp</th>\n      <th>Rainfall</th>\n      <th>Evaporation</th>\n      <th>Sunshine</th>\n      <th>WindGustDir</th>\n      <th>WindGustSpeed</th>\n      <th>WindDir9am</th>\n      <th>...</th>\n      <th>Humidity9am</th>\n      <th>Humidity3pm</th>\n      <th>Pressure9am</th>\n      <th>Pressure3pm</th>\n      <th>Cloud9am</th>\n      <th>Cloud3pm</th>\n      <th>Temp9am</th>\n      <th>Temp3pm</th>\n      <th>No</th>\n      <th>Yes</th>\n    </tr>\n  </thead>\n  <tbody>\n    <tr>\n      <th>0</th>\n      <td>Row0</td>\n      <td>Albury</td>\n      <td>12.9</td>\n      <td>25.7</td>\n      <td>0.0</td>\n      <td>5.489715</td>\n      <td>7.647831</td>\n      <td>WSW</td>\n      <td>46</td>\n      <td>W</td>\n      <td>...</td>\n      <td>38.0</td>\n      <td>30.0</td>\n      <td>1007.6</td>\n      <td>1008.7</td>\n      <td>5.0</td>\n      <td>2.0</td>\n      <td>21.0</td>\n      <td>23.2</td>\n      <td>1</td>\n      <td>0</td>\n    </tr>\n    <tr>\n      <th>1</th>\n      <td>Row1</td>\n      <td>Albury</td>\n      <td>9.2</td>\n      <td>28.0</td>\n      <td>0.0</td>\n      <td>5.489715</td>\n      <td>7.647831</td>\n      <td>NE</td>\n      <td>24</td>\n      <td>SE</td>\n      <td>...</td>\n      <td>45.0</td>\n      <td>16.0</td>\n      <td>1017.6</td>\n      <td>1012.8</td>\n      <td>5.0</td>\n      <td>5.0</td>\n      <td>18.1</td>\n      <td>26.5</td>\n      <td>1</td>\n      <td>0</td>\n    </tr>\n    <tr>\n      <th>2</th>\n      <td>Row2</td>\n      <td>Albury</td>\n      <td>14.3</td>\n      <td>25.0</td>\n      <td>0.0</td>\n      <td>5.489715</td>\n      <td>7.647831</td>\n      <td>W</td>\n      <td>50</td>\n      <td>SW</td>\n      <td>...</td>\n      <td>49.0</td>\n      <td>19.0</td>\n      <td>1009.6</td>\n      <td>1008.2</td>\n      <td>1.0</td>\n      <td>5.0</td>\n      <td>18.1</td>\n      <td>24.6</td>\n      <td>1</td>\n      <td>0</td>\n    </tr>\n    <tr>\n      <th>3</th>\n      <td>Row3</td>\n      <td>Albury</td>\n      <td>9.7</td>\n      <td>31.9</td>\n      <td>0.0</td>\n      <td>5.489715</td>\n      <td>7.647831</td>\n      <td>NNW</td>\n      <td>80</td>\n      <td>SE</td>\n      <td>...</td>\n      <td>42.0</td>\n      <td>9.0</td>\n      <td>1008.9</td>\n      <td>1003.6</td>\n      <td>5.0</td>\n      <td>5.0</td>\n      <td>18.3</td>\n      <td>30.2</td>\n      <td>1</td>\n      <td>0</td>\n    </tr>\n    <tr>\n      <th>4</th>\n      <td>Row4</td>\n      <td>Albury</td>\n      <td>15.9</td>\n      <td>18.6</td>\n      <td>15.6</td>\n      <td>5.489715</td>\n      <td>7.647831</td>\n      <td>W</td>\n      <td>61</td>\n      <td>NNW</td>\n      <td>...</td>\n      <td>76.0</td>\n      <td>93.0</td>\n      <td>994.3</td>\n      <td>993.0</td>\n      <td>8.0</td>\n      <td>8.0</td>\n      <td>17.4</td>\n      <td>15.8</td>\n      <td>0</td>\n      <td>1</td>\n    </tr>\n  </tbody>\n</table>\n<p>5 rows × 23 columns</p>\n</div>"
     },
     "execution_count": 41,
     "metadata": {},
     "output_type": "execute_result"
    }
   ],
   "metadata": {
    "datalore": {
     "node_id": "XgF644BoJvcO5r35fl5UAP",
     "type": "CODE",
     "hide_input_from_viewers": true,
     "hide_output_from_viewers": true
    }
   }
  }
 ],
 "metadata": {
  "kernelspec": {
   "name": "python3",
   "language": "python",
   "display_name": "Python 3 (ipykernel)"
  },
  "datalore": {
   "version": 1,
   "computation_mode": "JUPYTER",
   "package_manager": "pip",
   "base_environment": "default",
   "packages": []
  }
 },
 "nbformat": 4,
 "nbformat_minor": 4
}
